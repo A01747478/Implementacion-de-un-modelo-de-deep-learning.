{
  "nbformat": 4,
  "nbformat_minor": 0,
  "metadata": {
    "colab": {
      "provenance": [],
      "gpuType": "T4"
    },
    "kernelspec": {
      "name": "python3",
      "display_name": "Python 3"
    },
    "language_info": {
      "name": "python"
    },
    "accelerator": "GPU"
  },
  "cells": [
    {
      "cell_type": "markdown",
      "source": [
        "# Análisis de sentimiento con comentarios de Twitter\n",
        "El análisis de sentimientos, una técnica clave en el procesamiento de lenguaje natural permitiendo a las empresas y organizaciones entender opiniones y emociones expresadas en texto de manera automatizada. Con los miles de datos que se generan en redes sociales y otras plataformas tener modelos que procesen y analicen estos datos es crucial para mejorar la toma de decisiones, aumentar la satisfacción del cliente y comprender tendencias sociales. Sin embargo, esta tarea no es tan fácil debido a la complejidad del lenguaje humano, ya sea como el sarcasmo o la ambigüedad, lo que hace necesario desarrollar modelos precisos y robustos que puedan manejar estas sutilezas para convertir grandes volúmenes de datos en información accionable.\n",
        "\n",
        "Para poder abordar este problema se utilizara un dataset que contiene miles de comentarios de la red social Twitter los cuales estan etiquetados por sentimiento (positivo, neutral, negativo)."
      ],
      "metadata": {
        "id": "HPIKAcZXzfEL"
      }
    },
    {
      "cell_type": "markdown",
      "source": [
        "# Importar librerias\n",
        "Se importan las librerias necesarias para el proceso"
      ],
      "metadata": {
        "id": "UNp51a1Y9jEY"
      }
    },
    {
      "cell_type": "code",
      "execution_count": 2,
      "metadata": {
        "id": "2oOyxQio8PK9"
      },
      "outputs": [],
      "source": [
        "# Manipulación de datos y carga de archivo\n",
        "import pandas as pd\n",
        "import numpy as np\n",
        "import tensorflow as tf\n",
        "\n",
        "# Preprocesamiento de texto\n",
        "from tensorflow.keras.preprocessing.text import Tokenizer\n",
        "from tensorflow.keras.preprocessing.sequence import pad_sequences\n",
        "import re\n",
        "\n",
        "# Construcción del modelo\n",
        "from tensorflow.keras.models import Sequential\n",
        "from tensorflow.keras.layers import Embedding, Conv1D, GlobalMaxPooling1D, LSTM, Dense, Dropout\n",
        "\n",
        "# Procesamiento de datos\n",
        "from tensorflow.keras.preprocessing.text import Tokenizer\n",
        "from tensorflow.keras.preprocessing.sequence import pad_sequences\n",
        "from tensorflow.keras.utils import to_categorical\n",
        "\n",
        "# Construcción del modelo\n",
        "from sklearn.model_selection import train_test_split\n",
        "from tensorflow.keras.models import Sequential\n",
        "from tensorflow.keras.layers import Embedding, Conv1D, MaxPooling1D, LSTM, Dense, Dropout\n",
        "from tensorflow.keras.callbacks import EarlyStopping\n",
        "\n",
        "# Mostrar resultados\n",
        "from sklearn.metrics import classification_report, confusion_matrix\n",
        "import matplotlib.pyplot as plt\n",
        "\n",
        "# Manipulación de archivos\n",
        "from google.colab import files\n",
        "import pickle"
      ]
    },
    {
      "cell_type": "markdown",
      "source": [
        "# Datos"
      ],
      "metadata": {
        "id": "qQmMPK4L9pac"
      }
    },
    {
      "cell_type": "markdown",
      "source": [
        "Como se menciono anteriormente para este proyecto se selecciono el Twitter Sentiment Analysis Dataset obtenido de Kaggle, es una base de datos compuesta por tweets etiquetados por categorías de sentimiento: positivo, negativo y neutral. La información de los tweets se obtiene de una colección extensa de interacciones en Twitter, permitiendo evaluar el sentimiento general en esta red social y representando el lenguaje informal y dinámico ya que simula la forma en que los usuarios interactúan en tiempo real en las redes.\n",
        "El Dataset cuenta con:\n",
        "\n",
        "\n",
        "*   162,980 datos\n",
        "*   35,509 datos son negativos\n",
        "*   55,212 datos son neutrales\n",
        "*   72,249 datos son positivos\n",
        "\n",
        "Este desbalance de clases puede llegar a afectar el desempeño del modelo.\n",
        "\n",
        "Link del Dataset en kaggle:\n",
        "https://www.kaggle.com/datasets/cosmos98/twitter-and-reddit-sentimental-analysis-dataset?select=Twitter_Data.csv\n"
      ],
      "metadata": {
        "id": "FW65bLs9WKR9"
      }
    },
    {
      "cell_type": "code",
      "source": [
        "data = pd.read_csv(\"Twitter_Data.csv\")\n",
        "data.head()"
      ],
      "metadata": {
        "id": "2kKFHerc9ip3",
        "colab": {
          "base_uri": "https://localhost:8080/",
          "height": 206
        },
        "outputId": "7627ec0e-5bbf-4e9b-ac6d-44e5e728b650"
      },
      "execution_count": null,
      "outputs": [
        {
          "output_type": "execute_result",
          "data": {
            "text/plain": [
              "                                          clean_text  category\n",
              "0  when modi promised “minimum government maximum...      -1.0\n",
              "1  talk all the nonsense and continue all the dra...       0.0\n",
              "2  what did just say vote for modi  welcome bjp t...       1.0\n",
              "3  asking his supporters prefix chowkidar their n...       1.0\n",
              "4  answer who among these the most powerful world...       1.0"
            ],
            "text/html": [
              "\n",
              "  <div id=\"df-acb155ae-6075-4b1d-b75b-4c1f355a0dba\" class=\"colab-df-container\">\n",
              "    <div>\n",
              "<style scoped>\n",
              "    .dataframe tbody tr th:only-of-type {\n",
              "        vertical-align: middle;\n",
              "    }\n",
              "\n",
              "    .dataframe tbody tr th {\n",
              "        vertical-align: top;\n",
              "    }\n",
              "\n",
              "    .dataframe thead th {\n",
              "        text-align: right;\n",
              "    }\n",
              "</style>\n",
              "<table border=\"1\" class=\"dataframe\">\n",
              "  <thead>\n",
              "    <tr style=\"text-align: right;\">\n",
              "      <th></th>\n",
              "      <th>clean_text</th>\n",
              "      <th>category</th>\n",
              "    </tr>\n",
              "  </thead>\n",
              "  <tbody>\n",
              "    <tr>\n",
              "      <th>0</th>\n",
              "      <td>when modi promised “minimum government maximum...</td>\n",
              "      <td>-1.0</td>\n",
              "    </tr>\n",
              "    <tr>\n",
              "      <th>1</th>\n",
              "      <td>talk all the nonsense and continue all the dra...</td>\n",
              "      <td>0.0</td>\n",
              "    </tr>\n",
              "    <tr>\n",
              "      <th>2</th>\n",
              "      <td>what did just say vote for modi  welcome bjp t...</td>\n",
              "      <td>1.0</td>\n",
              "    </tr>\n",
              "    <tr>\n",
              "      <th>3</th>\n",
              "      <td>asking his supporters prefix chowkidar their n...</td>\n",
              "      <td>1.0</td>\n",
              "    </tr>\n",
              "    <tr>\n",
              "      <th>4</th>\n",
              "      <td>answer who among these the most powerful world...</td>\n",
              "      <td>1.0</td>\n",
              "    </tr>\n",
              "  </tbody>\n",
              "</table>\n",
              "</div>\n",
              "    <div class=\"colab-df-buttons\">\n",
              "\n",
              "  <div class=\"colab-df-container\">\n",
              "    <button class=\"colab-df-convert\" onclick=\"convertToInteractive('df-acb155ae-6075-4b1d-b75b-4c1f355a0dba')\"\n",
              "            title=\"Convert this dataframe to an interactive table.\"\n",
              "            style=\"display:none;\">\n",
              "\n",
              "  <svg xmlns=\"http://www.w3.org/2000/svg\" height=\"24px\" viewBox=\"0 -960 960 960\">\n",
              "    <path d=\"M120-120v-720h720v720H120Zm60-500h600v-160H180v160Zm220 220h160v-160H400v160Zm0 220h160v-160H400v160ZM180-400h160v-160H180v160Zm440 0h160v-160H620v160ZM180-180h160v-160H180v160Zm440 0h160v-160H620v160Z\"/>\n",
              "  </svg>\n",
              "    </button>\n",
              "\n",
              "  <style>\n",
              "    .colab-df-container {\n",
              "      display:flex;\n",
              "      gap: 12px;\n",
              "    }\n",
              "\n",
              "    .colab-df-convert {\n",
              "      background-color: #E8F0FE;\n",
              "      border: none;\n",
              "      border-radius: 50%;\n",
              "      cursor: pointer;\n",
              "      display: none;\n",
              "      fill: #1967D2;\n",
              "      height: 32px;\n",
              "      padding: 0 0 0 0;\n",
              "      width: 32px;\n",
              "    }\n",
              "\n",
              "    .colab-df-convert:hover {\n",
              "      background-color: #E2EBFA;\n",
              "      box-shadow: 0px 1px 2px rgba(60, 64, 67, 0.3), 0px 1px 3px 1px rgba(60, 64, 67, 0.15);\n",
              "      fill: #174EA6;\n",
              "    }\n",
              "\n",
              "    .colab-df-buttons div {\n",
              "      margin-bottom: 4px;\n",
              "    }\n",
              "\n",
              "    [theme=dark] .colab-df-convert {\n",
              "      background-color: #3B4455;\n",
              "      fill: #D2E3FC;\n",
              "    }\n",
              "\n",
              "    [theme=dark] .colab-df-convert:hover {\n",
              "      background-color: #434B5C;\n",
              "      box-shadow: 0px 1px 3px 1px rgba(0, 0, 0, 0.15);\n",
              "      filter: drop-shadow(0px 1px 2px rgba(0, 0, 0, 0.3));\n",
              "      fill: #FFFFFF;\n",
              "    }\n",
              "  </style>\n",
              "\n",
              "    <script>\n",
              "      const buttonEl =\n",
              "        document.querySelector('#df-acb155ae-6075-4b1d-b75b-4c1f355a0dba button.colab-df-convert');\n",
              "      buttonEl.style.display =\n",
              "        google.colab.kernel.accessAllowed ? 'block' : 'none';\n",
              "\n",
              "      async function convertToInteractive(key) {\n",
              "        const element = document.querySelector('#df-acb155ae-6075-4b1d-b75b-4c1f355a0dba');\n",
              "        const dataTable =\n",
              "          await google.colab.kernel.invokeFunction('convertToInteractive',\n",
              "                                                    [key], {});\n",
              "        if (!dataTable) return;\n",
              "\n",
              "        const docLinkHtml = 'Like what you see? Visit the ' +\n",
              "          '<a target=\"_blank\" href=https://colab.research.google.com/notebooks/data_table.ipynb>data table notebook</a>'\n",
              "          + ' to learn more about interactive tables.';\n",
              "        element.innerHTML = '';\n",
              "        dataTable['output_type'] = 'display_data';\n",
              "        await google.colab.output.renderOutput(dataTable, element);\n",
              "        const docLink = document.createElement('div');\n",
              "        docLink.innerHTML = docLinkHtml;\n",
              "        element.appendChild(docLink);\n",
              "      }\n",
              "    </script>\n",
              "  </div>\n",
              "\n",
              "\n",
              "<div id=\"df-4b8dcd79-369e-4771-93c3-f8abefd0cc10\">\n",
              "  <button class=\"colab-df-quickchart\" onclick=\"quickchart('df-4b8dcd79-369e-4771-93c3-f8abefd0cc10')\"\n",
              "            title=\"Suggest charts\"\n",
              "            style=\"display:none;\">\n",
              "\n",
              "<svg xmlns=\"http://www.w3.org/2000/svg\" height=\"24px\"viewBox=\"0 0 24 24\"\n",
              "     width=\"24px\">\n",
              "    <g>\n",
              "        <path d=\"M19 3H5c-1.1 0-2 .9-2 2v14c0 1.1.9 2 2 2h14c1.1 0 2-.9 2-2V5c0-1.1-.9-2-2-2zM9 17H7v-7h2v7zm4 0h-2V7h2v10zm4 0h-2v-4h2v4z\"/>\n",
              "    </g>\n",
              "</svg>\n",
              "  </button>\n",
              "\n",
              "<style>\n",
              "  .colab-df-quickchart {\n",
              "      --bg-color: #E8F0FE;\n",
              "      --fill-color: #1967D2;\n",
              "      --hover-bg-color: #E2EBFA;\n",
              "      --hover-fill-color: #174EA6;\n",
              "      --disabled-fill-color: #AAA;\n",
              "      --disabled-bg-color: #DDD;\n",
              "  }\n",
              "\n",
              "  [theme=dark] .colab-df-quickchart {\n",
              "      --bg-color: #3B4455;\n",
              "      --fill-color: #D2E3FC;\n",
              "      --hover-bg-color: #434B5C;\n",
              "      --hover-fill-color: #FFFFFF;\n",
              "      --disabled-bg-color: #3B4455;\n",
              "      --disabled-fill-color: #666;\n",
              "  }\n",
              "\n",
              "  .colab-df-quickchart {\n",
              "    background-color: var(--bg-color);\n",
              "    border: none;\n",
              "    border-radius: 50%;\n",
              "    cursor: pointer;\n",
              "    display: none;\n",
              "    fill: var(--fill-color);\n",
              "    height: 32px;\n",
              "    padding: 0;\n",
              "    width: 32px;\n",
              "  }\n",
              "\n",
              "  .colab-df-quickchart:hover {\n",
              "    background-color: var(--hover-bg-color);\n",
              "    box-shadow: 0 1px 2px rgba(60, 64, 67, 0.3), 0 1px 3px 1px rgba(60, 64, 67, 0.15);\n",
              "    fill: var(--button-hover-fill-color);\n",
              "  }\n",
              "\n",
              "  .colab-df-quickchart-complete:disabled,\n",
              "  .colab-df-quickchart-complete:disabled:hover {\n",
              "    background-color: var(--disabled-bg-color);\n",
              "    fill: var(--disabled-fill-color);\n",
              "    box-shadow: none;\n",
              "  }\n",
              "\n",
              "  .colab-df-spinner {\n",
              "    border: 2px solid var(--fill-color);\n",
              "    border-color: transparent;\n",
              "    border-bottom-color: var(--fill-color);\n",
              "    animation:\n",
              "      spin 1s steps(1) infinite;\n",
              "  }\n",
              "\n",
              "  @keyframes spin {\n",
              "    0% {\n",
              "      border-color: transparent;\n",
              "      border-bottom-color: var(--fill-color);\n",
              "      border-left-color: var(--fill-color);\n",
              "    }\n",
              "    20% {\n",
              "      border-color: transparent;\n",
              "      border-left-color: var(--fill-color);\n",
              "      border-top-color: var(--fill-color);\n",
              "    }\n",
              "    30% {\n",
              "      border-color: transparent;\n",
              "      border-left-color: var(--fill-color);\n",
              "      border-top-color: var(--fill-color);\n",
              "      border-right-color: var(--fill-color);\n",
              "    }\n",
              "    40% {\n",
              "      border-color: transparent;\n",
              "      border-right-color: var(--fill-color);\n",
              "      border-top-color: var(--fill-color);\n",
              "    }\n",
              "    60% {\n",
              "      border-color: transparent;\n",
              "      border-right-color: var(--fill-color);\n",
              "    }\n",
              "    80% {\n",
              "      border-color: transparent;\n",
              "      border-right-color: var(--fill-color);\n",
              "      border-bottom-color: var(--fill-color);\n",
              "    }\n",
              "    90% {\n",
              "      border-color: transparent;\n",
              "      border-bottom-color: var(--fill-color);\n",
              "    }\n",
              "  }\n",
              "</style>\n",
              "\n",
              "  <script>\n",
              "    async function quickchart(key) {\n",
              "      const quickchartButtonEl =\n",
              "        document.querySelector('#' + key + ' button');\n",
              "      quickchartButtonEl.disabled = true;  // To prevent multiple clicks.\n",
              "      quickchartButtonEl.classList.add('colab-df-spinner');\n",
              "      try {\n",
              "        const charts = await google.colab.kernel.invokeFunction(\n",
              "            'suggestCharts', [key], {});\n",
              "      } catch (error) {\n",
              "        console.error('Error during call to suggestCharts:', error);\n",
              "      }\n",
              "      quickchartButtonEl.classList.remove('colab-df-spinner');\n",
              "      quickchartButtonEl.classList.add('colab-df-quickchart-complete');\n",
              "    }\n",
              "    (() => {\n",
              "      let quickchartButtonEl =\n",
              "        document.querySelector('#df-4b8dcd79-369e-4771-93c3-f8abefd0cc10 button');\n",
              "      quickchartButtonEl.style.display =\n",
              "        google.colab.kernel.accessAllowed ? 'block' : 'none';\n",
              "    })();\n",
              "  </script>\n",
              "</div>\n",
              "\n",
              "    </div>\n",
              "  </div>\n"
            ],
            "application/vnd.google.colaboratory.intrinsic+json": {
              "type": "dataframe",
              "variable_name": "data"
            }
          },
          "metadata": {},
          "execution_count": 2
        }
      ]
    },
    {
      "cell_type": "markdown",
      "source": [
        "El Dataset está estructurado con etiquetas numéricas (-1: negativo, 0: neutral y 1: positivo) y una columna de texto (clean_text) que contiene los mensajes de cada tweet ya procesados. Es fundamental limpiar y normalizar el texto, eliminando caracteres irrelevantes para facilitar su procesamiento. El análisis presenta desafíos, como la interpretación de jerga, abreviaturas, emojis y el contexto, que puede incluir sarcasmo y ambigüedad. Este dataset se utiliza principalmente para clasificar sentimientos, permitiendo analizar tendencias y opiniones en tiempo real, con aplicaciones prácticas en redes sociales y marketing para medir la percepción pública y la satisfacción de los usuarios."
      ],
      "metadata": {
        "id": "W24_kwRHW2ec"
      }
    },
    {
      "cell_type": "markdown",
      "source": [
        "# Limpiar datos"
      ],
      "metadata": {
        "id": "3JgRJhYstxdF"
      }
    },
    {
      "cell_type": "code",
      "source": [
        "# Verificar si hay valores nulos\n",
        "print(data.isnull().sum())\n",
        "print(\"Número de filas:\", data.shape[0])"
      ],
      "metadata": {
        "id": "hCxs3CeksMqQ",
        "colab": {
          "base_uri": "https://localhost:8080/"
        },
        "outputId": "daa42a60-bef5-46c6-fec9-c221e1a37cdb"
      },
      "execution_count": null,
      "outputs": [
        {
          "output_type": "stream",
          "name": "stdout",
          "text": [
            "clean_text    4\n",
            "category      7\n",
            "dtype: int64\n",
            "Número de filas: 162980\n"
          ]
        }
      ]
    },
    {
      "cell_type": "markdown",
      "source": [
        "Como tenemos valores nulos vamos a requerir hacer limpieza de estos, como son 162,980 datos y solo son 11 valores nulos no afectara mucho si eliminamos estas filas."
      ],
      "metadata": {
        "id": "TMgYZgvU0kDz"
      }
    },
    {
      "cell_type": "code",
      "source": [
        "# Eliminar filas con valores nulos\n",
        "data = data.dropna()\n",
        "# Verificar si se eliminaron los valores nulos\n",
        "print(data.isnull().sum())\n",
        "# Verificar el número de filas\n",
        "print(\"Número de filas:\", data.shape[0])"
      ],
      "metadata": {
        "id": "cpg8PPcws9rj",
        "colab": {
          "base_uri": "https://localhost:8080/"
        },
        "outputId": "86e85e33-bc13-4590-ca33-ae478683b586"
      },
      "execution_count": null,
      "outputs": [
        {
          "output_type": "stream",
          "name": "stdout",
          "text": [
            "clean_text    0\n",
            "category      0\n",
            "dtype: int64\n",
            "Número de filas: 162969\n"
          ]
        }
      ]
    },
    {
      "cell_type": "markdown",
      "source": [
        "Para poder tener un mejor analisis del texto se eliman los caracteres inecesarios porque ayuda a que el texto sea más consistente y reduce el ruido en los datos."
      ],
      "metadata": {
        "id": "YEAeTs-21Ydg"
      }
    },
    {
      "cell_type": "code",
      "source": [
        "data['clean_text'] = data['clean_text'].str.replace('\\n', '').str.replace('\\r', '').str.replace('\\ufeff', '').str.replace('“','').str.replace('”','')"
      ],
      "metadata": {
        "id": "2paRi4btu8d_"
      },
      "execution_count": null,
      "outputs": []
    },
    {
      "cell_type": "code",
      "source": [
        "data['clean_text'][0]"
      ],
      "metadata": {
        "id": "gaSdXjSLuoqz",
        "colab": {
          "base_uri": "https://localhost:8080/",
          "height": 53
        },
        "outputId": "05568478-b719-4de3-b956-a5b3b2b8ad89"
      },
      "execution_count": null,
      "outputs": [
        {
          "output_type": "execute_result",
          "data": {
            "text/plain": [
              "'when modi promised minimum government maximum governance expected him begin the difficult job reforming the state why does take years get justice state should and not business and should exit psus and temples'"
            ],
            "application/vnd.google.colaboratory.intrinsic+json": {
              "type": "string"
            }
          },
          "metadata": {},
          "execution_count": 6
        }
      ]
    },
    {
      "cell_type": "markdown",
      "source": [
        "# Procesamiento de datos"
      ],
      "metadata": {
        "id": "32qdOzRIt-Pa"
      }
    },
    {
      "cell_type": "markdown",
      "source": [
        "El primer paso es tokenizar los datos, este es un paso esencial en el procesamiento de lenguaje natural (NLP) que convierte el texto en un formato que un modelo de machine learning puede entender. La tokenización es el proceso de dividir el texto en unidades más pequeñas llamadas tokens. Por ejemplo [ \"when\", \"modi\", \"promised\", \"minimum\", \"government\", ...] Luego sigue la indexación que se basa en ponerle números a las palabras para luego generar una secuencia númerica y finalmente hacerle padding a las necesarias."
      ],
      "metadata": {
        "id": "Dk-E3GyQ23yk"
      }
    },
    {
      "cell_type": "code",
      "source": [
        "# Para la salida se convierten las etiquetas a formato categórico\n",
        "labels = pd.get_dummies(data['category']).values\n",
        "\n",
        "# Se tokenizan los datos y se indexan\n",
        "tokenizer = Tokenizer()\n",
        "tokenizer.fit_on_texts(data['clean_text'])\n",
        "\n",
        "# Se convierte en secuencia númerica y se aplica padding\n",
        "sequences = tokenizer.texts_to_sequences(data['clean_text'])\n",
        "padded_sequences = pad_sequences(sequences)\n"
      ],
      "metadata": {
        "id": "tiWWTHvTuAOw"
      },
      "execution_count": null,
      "outputs": []
    },
    {
      "cell_type": "code",
      "source": [
        "padded_sequences.shape"
      ],
      "metadata": {
        "id": "ma4KBAVVwYau",
        "colab": {
          "base_uri": "https://localhost:8080/"
        },
        "outputId": "ce4a37aa-f834-46b0-b939-f6c71ede9327"
      },
      "execution_count": null,
      "outputs": [
        {
          "output_type": "execute_result",
          "data": {
            "text/plain": [
              "(162969, 52)"
            ]
          },
          "metadata": {},
          "execution_count": 8
        }
      ]
    },
    {
      "cell_type": "markdown",
      "source": [
        "# Construcción del modelo"
      ],
      "metadata": {
        "id": "t9aJyjSNB458"
      }
    },
    {
      "cell_type": "markdown",
      "source": [
        "Para la construcción del modelo primero necesitamos obtener los parámetros de entrada del modelo, la primera capa va ser una de Embedding que convierte los tokens en vectores densos de dimensiones fijas, permitiendo que las palabras se representen en un espacio continuo y que el modelo \"entienda\" relaciones entre ellas. A esta capa se le dara el tamaño del vocabulario (cuantas palabras unicas hay), luego se le dara las dimensiones que tendrá cada vector de palabra y finalmente la longitud de las secuencias después de aplicar padding como la longitud de entrada.\n",
        "Luego aplicamos una capa Convolución lo que hace que detecte patrones locales en las secuencias, como ciertas combinaciones de palabras que pueden ser significativas para el sentimiento. El 2 representa el número de filtros de convolución (o características) que el modelo aprende en esta capa, el 10 es el tamaño de cada filtro, en este caso, el modelo examina conjuntos de 10 palabras adyacentes para buscar patrones y \"relu\" es su función de activación.\n",
        "Luego se aplica una capa de Dropout para evitar el sobreajuste en el modelo.\n",
        "La siguiente capa es la de MaxPooling que su función es reducir la dimensionalidad de las características aprendidas, seleccionando solo el valor máximo en cada \"ventana\" de características, el modelo selecciona el valor máximo de cada 15 características adyacentes.\n",
        "Luego la capa LSTM es una red neuronal recurrente (RNN) que sirve para manejar secuencias de datos, permitiendo que el modelo retenga información sobre el contexto de las palabras a lo largo de la secuencia.\n",
        "Finalmente se agrega una capa densa para la predicción final del modelo con 3 neuronas una para cada sentimiento y la función de activación softmax que convierte los valores de salida en probabilidades."
      ],
      "metadata": {
        "id": "71uAIRcc54IX"
      }
    },
    {
      "cell_type": "code",
      "source": [
        "# Se divide el dataset en padding\n",
        "X_train, X_test, y_train, y_test = train_test_split(padded_sequences, labels, test_size=0.4, random_state=42)\n",
        "\n",
        "# Parámetros del modelo\n",
        "vocab_size = len(tokenizer.word_index) + 1  # tamaño del vocabulario\n",
        "embedding_dim = 10                          # dimensión de la capa de embedding\n",
        "max_length = padded_sequences.shape[1]      # longitud de secuencias\n",
        "\n",
        "model = Sequential()\n",
        "model.add(Embedding(input_dim=vocab_size, output_dim=embedding_dim, input_length=max_length))\n",
        "model.add(Conv1D(2, 10, activation='relu'))\n",
        "model.add(Dropout(0.5))\n",
        "model.add(MaxPooling1D(pool_size=15))\n",
        "model.add(LSTM(4))\n",
        "model.add(Dense(3, activation='softmax'))   # 3 clases para análisis de sentimientos (-1, 0, 1)\n",
        "\n",
        "model.summary()"
      ],
      "metadata": {
        "id": "PGuAFntVCEo1",
        "colab": {
          "base_uri": "https://localhost:8080/",
          "height": 376
        },
        "outputId": "9b5c3c9b-ca32-4df1-b37b-ccee4312e9a8"
      },
      "execution_count": null,
      "outputs": [
        {
          "output_type": "stream",
          "name": "stderr",
          "text": [
            "/usr/local/lib/python3.10/dist-packages/keras/src/layers/core/embedding.py:90: UserWarning: Argument `input_length` is deprecated. Just remove it.\n",
            "  warnings.warn(\n"
          ]
        },
        {
          "output_type": "display_data",
          "data": {
            "text/plain": [
              "\u001b[1mModel: \"sequential\"\u001b[0m\n"
            ],
            "text/html": [
              "<pre style=\"white-space:pre;overflow-x:auto;line-height:normal;font-family:Menlo,'DejaVu Sans Mono',consolas,'Courier New',monospace\"><span style=\"font-weight: bold\">Model: \"sequential\"</span>\n",
              "</pre>\n"
            ]
          },
          "metadata": {}
        },
        {
          "output_type": "display_data",
          "data": {
            "text/plain": [
              "┏━━━━━━━━━━━━━━━━━━━━━━━━━━━━━━━━━━━━━━┳━━━━━━━━━━━━━━━━━━━━━━━━━━━━━┳━━━━━━━━━━━━━━━━━┓\n",
              "┃\u001b[1m \u001b[0m\u001b[1mLayer (type)                        \u001b[0m\u001b[1m \u001b[0m┃\u001b[1m \u001b[0m\u001b[1mOutput Shape               \u001b[0m\u001b[1m \u001b[0m┃\u001b[1m \u001b[0m\u001b[1m        Param #\u001b[0m\u001b[1m \u001b[0m┃\n",
              "┡━━━━━━━━━━━━━━━━━━━━━━━━━━━━━━━━━━━━━━╇━━━━━━━━━━━━━━━━━━━━━━━━━━━━━╇━━━━━━━━━━━━━━━━━┩\n",
              "│ embedding (\u001b[38;5;33mEmbedding\u001b[0m)                │ ?                           │     \u001b[38;5;34m0\u001b[0m (unbuilt) │\n",
              "├──────────────────────────────────────┼─────────────────────────────┼─────────────────┤\n",
              "│ conv1d (\u001b[38;5;33mConv1D\u001b[0m)                      │ ?                           │     \u001b[38;5;34m0\u001b[0m (unbuilt) │\n",
              "├──────────────────────────────────────┼─────────────────────────────┼─────────────────┤\n",
              "│ dropout (\u001b[38;5;33mDropout\u001b[0m)                    │ ?                           │     \u001b[38;5;34m0\u001b[0m (unbuilt) │\n",
              "├──────────────────────────────────────┼─────────────────────────────┼─────────────────┤\n",
              "│ max_pooling1d (\u001b[38;5;33mMaxPooling1D\u001b[0m)         │ ?                           │     \u001b[38;5;34m0\u001b[0m (unbuilt) │\n",
              "├──────────────────────────────────────┼─────────────────────────────┼─────────────────┤\n",
              "│ lstm (\u001b[38;5;33mLSTM\u001b[0m)                          │ ?                           │     \u001b[38;5;34m0\u001b[0m (unbuilt) │\n",
              "├──────────────────────────────────────┼─────────────────────────────┼─────────────────┤\n",
              "│ dense (\u001b[38;5;33mDense\u001b[0m)                        │ ?                           │     \u001b[38;5;34m0\u001b[0m (unbuilt) │\n",
              "└──────────────────────────────────────┴─────────────────────────────┴─────────────────┘\n"
            ],
            "text/html": [
              "<pre style=\"white-space:pre;overflow-x:auto;line-height:normal;font-family:Menlo,'DejaVu Sans Mono',consolas,'Courier New',monospace\">┏━━━━━━━━━━━━━━━━━━━━━━━━━━━━━━━━━━━━━━┳━━━━━━━━━━━━━━━━━━━━━━━━━━━━━┳━━━━━━━━━━━━━━━━━┓\n",
              "┃<span style=\"font-weight: bold\"> Layer (type)                         </span>┃<span style=\"font-weight: bold\"> Output Shape                </span>┃<span style=\"font-weight: bold\">         Param # </span>┃\n",
              "┡━━━━━━━━━━━━━━━━━━━━━━━━━━━━━━━━━━━━━━╇━━━━━━━━━━━━━━━━━━━━━━━━━━━━━╇━━━━━━━━━━━━━━━━━┩\n",
              "│ embedding (<span style=\"color: #0087ff; text-decoration-color: #0087ff\">Embedding</span>)                │ ?                           │     <span style=\"color: #00af00; text-decoration-color: #00af00\">0</span> (unbuilt) │\n",
              "├──────────────────────────────────────┼─────────────────────────────┼─────────────────┤\n",
              "│ conv1d (<span style=\"color: #0087ff; text-decoration-color: #0087ff\">Conv1D</span>)                      │ ?                           │     <span style=\"color: #00af00; text-decoration-color: #00af00\">0</span> (unbuilt) │\n",
              "├──────────────────────────────────────┼─────────────────────────────┼─────────────────┤\n",
              "│ dropout (<span style=\"color: #0087ff; text-decoration-color: #0087ff\">Dropout</span>)                    │ ?                           │     <span style=\"color: #00af00; text-decoration-color: #00af00\">0</span> (unbuilt) │\n",
              "├──────────────────────────────────────┼─────────────────────────────┼─────────────────┤\n",
              "│ max_pooling1d (<span style=\"color: #0087ff; text-decoration-color: #0087ff\">MaxPooling1D</span>)         │ ?                           │     <span style=\"color: #00af00; text-decoration-color: #00af00\">0</span> (unbuilt) │\n",
              "├──────────────────────────────────────┼─────────────────────────────┼─────────────────┤\n",
              "│ lstm (<span style=\"color: #0087ff; text-decoration-color: #0087ff\">LSTM</span>)                          │ ?                           │     <span style=\"color: #00af00; text-decoration-color: #00af00\">0</span> (unbuilt) │\n",
              "├──────────────────────────────────────┼─────────────────────────────┼─────────────────┤\n",
              "│ dense (<span style=\"color: #0087ff; text-decoration-color: #0087ff\">Dense</span>)                        │ ?                           │     <span style=\"color: #00af00; text-decoration-color: #00af00\">0</span> (unbuilt) │\n",
              "└──────────────────────────────────────┴─────────────────────────────┴─────────────────┘\n",
              "</pre>\n"
            ]
          },
          "metadata": {}
        },
        {
          "output_type": "display_data",
          "data": {
            "text/plain": [
              "\u001b[1m Total params: \u001b[0m\u001b[38;5;34m0\u001b[0m (0.00 B)\n"
            ],
            "text/html": [
              "<pre style=\"white-space:pre;overflow-x:auto;line-height:normal;font-family:Menlo,'DejaVu Sans Mono',consolas,'Courier New',monospace\"><span style=\"font-weight: bold\"> Total params: </span><span style=\"color: #00af00; text-decoration-color: #00af00\">0</span> (0.00 B)\n",
              "</pre>\n"
            ]
          },
          "metadata": {}
        },
        {
          "output_type": "display_data",
          "data": {
            "text/plain": [
              "\u001b[1m Trainable params: \u001b[0m\u001b[38;5;34m0\u001b[0m (0.00 B)\n"
            ],
            "text/html": [
              "<pre style=\"white-space:pre;overflow-x:auto;line-height:normal;font-family:Menlo,'DejaVu Sans Mono',consolas,'Courier New',monospace\"><span style=\"font-weight: bold\"> Trainable params: </span><span style=\"color: #00af00; text-decoration-color: #00af00\">0</span> (0.00 B)\n",
              "</pre>\n"
            ]
          },
          "metadata": {}
        },
        {
          "output_type": "display_data",
          "data": {
            "text/plain": [
              "\u001b[1m Non-trainable params: \u001b[0m\u001b[38;5;34m0\u001b[0m (0.00 B)\n"
            ],
            "text/html": [
              "<pre style=\"white-space:pre;overflow-x:auto;line-height:normal;font-family:Menlo,'DejaVu Sans Mono',consolas,'Courier New',monospace\"><span style=\"font-weight: bold\"> Non-trainable params: </span><span style=\"color: #00af00; text-decoration-color: #00af00\">0</span> (0.00 B)\n",
              "</pre>\n"
            ]
          },
          "metadata": {}
        }
      ]
    },
    {
      "cell_type": "code",
      "source": [
        "model.compile(loss='categorical_crossentropy', optimizer='adam', metrics=['accuracy'])"
      ],
      "metadata": {
        "id": "LNz-ipaKEBy_"
      },
      "execution_count": null,
      "outputs": []
    },
    {
      "cell_type": "markdown",
      "source": [
        "# Entrenar el modelo"
      ],
      "metadata": {
        "id": "T75cQw-eEEiN"
      }
    },
    {
      "cell_type": "markdown",
      "source": [
        "Para entrenar el modelo se requiere darle los valores de entrada (comanetarios-padded_sequences) y de salida (sentimientos-labels), el número de epocas para entrenar, el tamaño del batch y la división para el conjunto de validación."
      ],
      "metadata": {
        "id": "mrdAUPijAlHI"
      }
    },
    {
      "cell_type": "code",
      "source": [
        "history = model.fit(\n",
        "    padded_sequences,       # Secuencias de entrada preprocesadas\n",
        "    labels,                 # Etiquetas de sentimientos\n",
        "    epochs=10,              # Número de épocas\n",
        "    batch_size=16,          # Tamaño del lote\n",
        "    validation_split=0.2,   # Fracción del conjunto de datos para validación\n",
        ")"
      ],
      "metadata": {
        "colab": {
          "base_uri": "https://localhost:8080/"
        },
        "id": "4bBYYNJPEGSe",
        "outputId": "21a60110-39d6-41d4-8d20-3b9978852305"
      },
      "execution_count": null,
      "outputs": [
        {
          "output_type": "stream",
          "name": "stdout",
          "text": [
            "Epoch 1/10\n",
            "\u001b[1m8149/8149\u001b[0m \u001b[32m━━━━━━━━━━━━━━━━━━━━\u001b[0m\u001b[37m\u001b[0m \u001b[1m69s\u001b[0m 7ms/step - accuracy: 0.5111 - loss: 0.9843 - val_accuracy: 0.5396 - val_loss: 0.9391\n",
            "Epoch 2/10\n",
            "\u001b[1m8149/8149\u001b[0m \u001b[32m━━━━━━━━━━━━━━━━━━━━\u001b[0m\u001b[37m\u001b[0m \u001b[1m71s\u001b[0m 7ms/step - accuracy: 0.5660 - loss: 0.8846 - val_accuracy: 0.4932 - val_loss: 0.9703\n",
            "Epoch 3/10\n",
            "\u001b[1m8149/8149\u001b[0m \u001b[32m━━━━━━━━━━━━━━━━━━━━\u001b[0m\u001b[37m\u001b[0m \u001b[1m81s\u001b[0m 7ms/step - accuracy: 0.5929 - loss: 0.8536 - val_accuracy: 0.4748 - val_loss: 1.0183\n",
            "Epoch 4/10\n",
            "\u001b[1m8149/8149\u001b[0m \u001b[32m━━━━━━━━━━━━━━━━━━━━\u001b[0m\u001b[37m\u001b[0m \u001b[1m88s\u001b[0m 7ms/step - accuracy: 0.6215 - loss: 0.8157 - val_accuracy: 0.4908 - val_loss: 1.0012\n",
            "Epoch 5/10\n",
            "\u001b[1m8149/8149\u001b[0m \u001b[32m━━━━━━━━━━━━━━━━━━━━\u001b[0m\u001b[37m\u001b[0m \u001b[1m75s\u001b[0m 7ms/step - accuracy: 0.6378 - loss: 0.7902 - val_accuracy: 0.4918 - val_loss: 1.0235\n",
            "Epoch 6/10\n",
            "\u001b[1m8149/8149\u001b[0m \u001b[32m━━━━━━━━━━━━━━━━━━━━\u001b[0m\u001b[37m\u001b[0m \u001b[1m82s\u001b[0m 7ms/step - accuracy: 0.6501 - loss: 0.7697 - val_accuracy: 0.4945 - val_loss: 1.0358\n",
            "Epoch 7/10\n",
            "\u001b[1m8149/8149\u001b[0m \u001b[32m━━━━━━━━━━━━━━━━━━━━\u001b[0m\u001b[37m\u001b[0m \u001b[1m55s\u001b[0m 7ms/step - accuracy: 0.6632 - loss: 0.7495 - val_accuracy: 0.5081 - val_loss: 1.0090\n",
            "Epoch 8/10\n",
            "\u001b[1m8149/8149\u001b[0m \u001b[32m━━━━━━━━━━━━━━━━━━━━\u001b[0m\u001b[37m\u001b[0m \u001b[1m81s\u001b[0m 7ms/step - accuracy: 0.6696 - loss: 0.7371 - val_accuracy: 0.4979 - val_loss: 1.0483\n",
            "Epoch 9/10\n",
            "\u001b[1m8149/8149\u001b[0m \u001b[32m━━━━━━━━━━━━━━━━━━━━\u001b[0m\u001b[37m\u001b[0m \u001b[1m83s\u001b[0m 7ms/step - accuracy: 0.6774 - loss: 0.7235 - val_accuracy: 0.5015 - val_loss: 1.0486\n",
            "Epoch 10/10\n",
            "\u001b[1m8149/8149\u001b[0m \u001b[32m━━━━━━━━━━━━━━━━━━━━\u001b[0m\u001b[37m\u001b[0m \u001b[1m81s\u001b[0m 7ms/step - accuracy: 0.6835 - loss: 0.7112 - val_accuracy: 0.5106 - val_loss: 1.0453\n"
          ]
        }
      ]
    },
    {
      "cell_type": "markdown",
      "source": [
        "# Resultados"
      ],
      "metadata": {
        "id": "Oa34w6BTD6jj"
      }
    },
    {
      "cell_type": "markdown",
      "source": [
        "Checamos el accuracy con el conjunto de test separado anteriormente"
      ],
      "metadata": {
        "id": "2R3Us2IZ4L9b"
      }
    },
    {
      "cell_type": "code",
      "source": [
        "test_loss, test_accuracy = model.evaluate(X_test, y_test)\n",
        "print(f\"Test Accuracy: {test_accuracy * 100:.2f}%\")"
      ],
      "metadata": {
        "id": "hEgywpGeD6Ty",
        "colab": {
          "base_uri": "https://localhost:8080/"
        },
        "outputId": "9ddaab85-dd58-47f9-bc3b-e5f03aeb131f"
      },
      "execution_count": null,
      "outputs": [
        {
          "output_type": "stream",
          "name": "stdout",
          "text": [
            "\u001b[1m2038/2038\u001b[0m \u001b[32m━━━━━━━━━━━━━━━━━━━━\u001b[0m\u001b[37m\u001b[0m \u001b[1m6s\u001b[0m 3ms/step - accuracy: 0.6085 - loss: 0.8732\n",
            "Test Accuracy: 60.80%\n"
          ]
        }
      ]
    },
    {
      "cell_type": "markdown",
      "source": [
        "Graficamos el accuracy de los datos de entrenamiento y validación"
      ],
      "metadata": {
        "id": "EMT4U4jK41c5"
      }
    },
    {
      "cell_type": "code",
      "source": [
        "plt.plot(history.history['accuracy'], label='Training Accuracy')\n",
        "plt.plot(history.history['val_accuracy'], label='Validation Accuracy')\n",
        "plt.xlabel('Epoch')\n",
        "plt.ylabel('Accuracy')\n",
        "plt.legend()\n",
        "plt.show()"
      ],
      "metadata": {
        "id": "eNYtF9xdEAjD",
        "colab": {
          "base_uri": "https://localhost:8080/",
          "height": 449
        },
        "outputId": "9871fd95-4345-437d-e164-f81207d2d51e"
      },
      "execution_count": null,
      "outputs": [
        {
          "output_type": "display_data",
          "data": {
            "text/plain": [
              "<Figure size 640x480 with 1 Axes>"
            ],
            "image/png": "[encoded data removed]"
          },
          "metadata": {}
        }
      ]
    },
    {
      "cell_type": "markdown",
      "source": [
        "Finalmente generamos predicciones con el conjunto de test para obtener el reporte de clasificación y la matriz de confusión."
      ],
      "metadata": {
        "id": "T6D2o7Kj5JLx"
      }
    },
    {
      "cell_type": "code",
      "source": [
        "# Generar predicciones en el conjunto de prueba\n",
        "predicciones = model.predict(X_test)\n",
        "predicted_classes = predicciones.argmax(axis=1)\n",
        "true_classes = y_test.argmax(axis=1)\n",
        "\n",
        "# Calcular el reporte de clasificación\n",
        "print(\"Reporte de Clasificación:\")\n",
        "print(classification_report(true_classes, predicted_classes, target_names=[\"Negativo\", \"Neutral\", \"Positivo\"]))\n",
        "\n",
        "# Calcular la matriz de confusión\n",
        "print(\"Matriz de Confusión:\")\n",
        "print(confusion_matrix(true_classes, predicted_classes))"
      ],
      "metadata": {
        "id": "Heug9cy2QZA5",
        "colab": {
          "base_uri": "https://localhost:8080/"
        },
        "outputId": "76cbaa08-4223-430f-d9c7-0616083f464d"
      },
      "execution_count": null,
      "outputs": [
        {
          "output_type": "stream",
          "name": "stdout",
          "text": [
            "\u001b[1m2038/2038\u001b[0m \u001b[32m━━━━━━━━━━━━━━━━━━━━\u001b[0m\u001b[37m\u001b[0m \u001b[1m5s\u001b[0m 2ms/step\n",
            "Reporte de Clasificación:\n",
            "              precision    recall  f1-score   support\n",
            "\n",
            "    Negativo       0.52      0.60      0.56     14248\n",
            "     Neutral       0.56      0.95      0.70     22161\n",
            "    Positivo       0.89      0.35      0.50     28779\n",
            "\n",
            "    accuracy                           0.61     65188\n",
            "   macro avg       0.66      0.63      0.59     65188\n",
            "weighted avg       0.70      0.61      0.58     65188\n",
            "\n",
            "Matriz de Confusión:\n",
            "[[ 8514  5135   599]\n",
            " [  469 21008   684]\n",
            " [ 7321 11348 10110]]\n"
          ]
        }
      ]
    },
    {
      "cell_type": "markdown",
      "source": [
        "Podemos observar que la presición del modelo salio muy bajo y en la gráfica se puede observar que se sobreajusto un poco. El modelo tiene un rendimiento malo con una precisión general de 0.67. La clase \"Neutral\" es la mejor manejada, con un alto recall de 0.97, pero las clases \"Negativo\" y \"Positivo\" tienen un recall bajo de 0.50 y 0.52, indicando muchos falsos negativos. La precisión es alta para \"Positivo\" con 0.90, pero baja para \"Neutral\" con 0.54. Aunque el modelo predice bien los casos neutrales, existe un desequilibrio en el desempeño entre las clases."
      ],
      "metadata": {
        "id": "5Kqu0JRm54oh"
      }
    },
    {
      "cell_type": "markdown",
      "source": [
        "# Nuevo modelo"
      ],
      "metadata": {
        "id": "GlUmvqy-CLGi"
      }
    },
    {
      "cell_type": "markdown",
      "source": [
        "Para este nuevo modelo lo que se ajusto fue:\n",
        "\n",
        "*   La dimensión de la capa de embedding aumento a 100 ya que mientras mas alto sea el valor le va a permitir que las palabras se representen con mayor detalle\n",
        "*   Tambien aumento a 128 el número de filtros de convolución (o características) que el modelo aprende en esta capa y cambiamos a 5 el número de palabras adyacentes a examinar para obtener más características.\n",
        "*   Se agregaron más capas de Dropout y se reduce su porcentaje de apagado para que ayude a prevenir el sobreajuste\n",
        "*   Se aumento a 64 las unidades de la LSTM lo que aumenta la capacidad de la red para capturar información secuencial y para que aprenda mejor los padtrones se activa el \"return_sequences\" lo que devuelve toda la secuencia de salida, en lugar de solo el último estado.\n",
        "*   Finalmente se se agrega una segunda capa LSTM que ayuda a procesar la secuencia a un nivel más alto, mejorando la capacidad del modelo para hacer predicciones de sentimiento con contexto adicional.\n",
        "\n"
      ],
      "metadata": {
        "id": "XvVQcocL80x2"
      }
    },
    {
      "cell_type": "code",
      "source": [
        "# Parámetros del modelo\n",
        "vocab_size = len(tokenizer.word_index) + 1  # tamaño del vocabulario\n",
        "embedding_dim = 100  # dimensión de la capa de embedding\n",
        "max_length = padded_sequences.shape[1]  # longitud de secuencias\n",
        "\n",
        "model_bueno = Sequential()\n",
        "model_bueno.add(Embedding(input_dim=vocab_size, output_dim=embedding_dim, input_length=max_length))\n",
        "model_bueno.add(Conv1D(16, 5, activation='relu'))\n",
        "model_bueno.add(MaxPooling1D(pool_size=5))\n",
        "model_bueno.add(Dropout(0.2))\n",
        "model_bueno.add(LSTM(32, return_sequences=True))\n",
        "model_bueno.add(Dropout(0.2))\n",
        "model_bueno.add(LSTM(16))\n",
        "model_bueno.add(Dropout(0.2))\n",
        "model_bueno.add(Dense(3, activation='softmax'))  # 3 clases para análisis de sentimientos (-1, 0, 1)\n",
        "\n",
        "model_bueno.summary()"
      ],
      "metadata": {
        "id": "OpGARcMHB2lx",
        "colab": {
          "base_uri": "https://localhost:8080/",
          "height": 472
        },
        "outputId": "efe0c511-2939-462b-9f51-faa61f245c6d"
      },
      "execution_count": null,
      "outputs": [
        {
          "output_type": "stream",
          "name": "stderr",
          "text": [
            "/usr/local/lib/python3.10/dist-packages/keras/src/layers/core/embedding.py:90: UserWarning: Argument `input_length` is deprecated. Just remove it.\n",
            "  warnings.warn(\n"
          ]
        },
        {
          "output_type": "display_data",
          "data": {
            "text/plain": [
              "\u001b[1mModel: \"sequential_1\"\u001b[0m\n"
            ],
            "text/html": [
              "<pre style=\"white-space:pre;overflow-x:auto;line-height:normal;font-family:Menlo,'DejaVu Sans Mono',consolas,'Courier New',monospace\"><span style=\"font-weight: bold\">Model: \"sequential_1\"</span>\n",
              "</pre>\n"
            ]
          },
          "metadata": {}
        },
        {
          "output_type": "display_data",
          "data": {
            "text/plain": [
              "┏━━━━━━━━━━━━━━━━━━━━━━━━━━━━━━━━━━━━━━┳━━━━━━━━━━━━━━━━━━━━━━━━━━━━━┳━━━━━━━━━━━━━━━━━┓\n",
              "┃\u001b[1m \u001b[0m\u001b[1mLayer (type)                        \u001b[0m\u001b[1m \u001b[0m┃\u001b[1m \u001b[0m\u001b[1mOutput Shape               \u001b[0m\u001b[1m \u001b[0m┃\u001b[1m \u001b[0m\u001b[1m        Param #\u001b[0m\u001b[1m \u001b[0m┃\n",
              "┡━━━━━━━━━━━━━━━━━━━━━━━━━━━━━━━━━━━━━━╇━━━━━━━━━━━━━━━━━━━━━━━━━━━━━╇━━━━━━━━━━━━━━━━━┩\n",
              "│ embedding_1 (\u001b[38;5;33mEmbedding\u001b[0m)              │ ?                           │     \u001b[38;5;34m0\u001b[0m (unbuilt) │\n",
              "├──────────────────────────────────────┼─────────────────────────────┼─────────────────┤\n",
              "│ conv1d_1 (\u001b[38;5;33mConv1D\u001b[0m)                    │ ?                           │     \u001b[38;5;34m0\u001b[0m (unbuilt) │\n",
              "├──────────────────────────────────────┼─────────────────────────────┼─────────────────┤\n",
              "│ max_pooling1d_1 (\u001b[38;5;33mMaxPooling1D\u001b[0m)       │ ?                           │     \u001b[38;5;34m0\u001b[0m (unbuilt) │\n",
              "├──────────────────────────────────────┼─────────────────────────────┼─────────────────┤\n",
              "│ dropout_1 (\u001b[38;5;33mDropout\u001b[0m)                  │ ?                           │     \u001b[38;5;34m0\u001b[0m (unbuilt) │\n",
              "├──────────────────────────────────────┼─────────────────────────────┼─────────────────┤\n",
              "│ lstm_1 (\u001b[38;5;33mLSTM\u001b[0m)                        │ ?                           │     \u001b[38;5;34m0\u001b[0m (unbuilt) │\n",
              "├──────────────────────────────────────┼─────────────────────────────┼─────────────────┤\n",
              "│ dropout_2 (\u001b[38;5;33mDropout\u001b[0m)                  │ ?                           │     \u001b[38;5;34m0\u001b[0m (unbuilt) │\n",
              "├──────────────────────────────────────┼─────────────────────────────┼─────────────────┤\n",
              "│ lstm_2 (\u001b[38;5;33mLSTM\u001b[0m)                        │ ?                           │     \u001b[38;5;34m0\u001b[0m (unbuilt) │\n",
              "├──────────────────────────────────────┼─────────────────────────────┼─────────────────┤\n",
              "│ dropout_3 (\u001b[38;5;33mDropout\u001b[0m)                  │ ?                           │     \u001b[38;5;34m0\u001b[0m (unbuilt) │\n",
              "├──────────────────────────────────────┼─────────────────────────────┼─────────────────┤\n",
              "│ dense_1 (\u001b[38;5;33mDense\u001b[0m)                      │ ?                           │     \u001b[38;5;34m0\u001b[0m (unbuilt) │\n",
              "└──────────────────────────────────────┴─────────────────────────────┴─────────────────┘\n"
            ],
            "text/html": [
              "<pre style=\"white-space:pre;overflow-x:auto;line-height:normal;font-family:Menlo,'DejaVu Sans Mono',consolas,'Courier New',monospace\">┏━━━━━━━━━━━━━━━━━━━━━━━━━━━━━━━━━━━━━━┳━━━━━━━━━━━━━━━━━━━━━━━━━━━━━┳━━━━━━━━━━━━━━━━━┓\n",
              "┃<span style=\"font-weight: bold\"> Layer (type)                         </span>┃<span style=\"font-weight: bold\"> Output Shape                </span>┃<span style=\"font-weight: bold\">         Param # </span>┃\n",
              "┡━━━━━━━━━━━━━━━━━━━━━━━━━━━━━━━━━━━━━━╇━━━━━━━━━━━━━━━━━━━━━━━━━━━━━╇━━━━━━━━━━━━━━━━━┩\n",
              "│ embedding_1 (<span style=\"color: #0087ff; text-decoration-color: #0087ff\">Embedding</span>)              │ ?                           │     <span style=\"color: #00af00; text-decoration-color: #00af00\">0</span> (unbuilt) │\n",
              "├──────────────────────────────────────┼─────────────────────────────┼─────────────────┤\n",
              "│ conv1d_1 (<span style=\"color: #0087ff; text-decoration-color: #0087ff\">Conv1D</span>)                    │ ?                           │     <span style=\"color: #00af00; text-decoration-color: #00af00\">0</span> (unbuilt) │\n",
              "├──────────────────────────────────────┼─────────────────────────────┼─────────────────┤\n",
              "│ max_pooling1d_1 (<span style=\"color: #0087ff; text-decoration-color: #0087ff\">MaxPooling1D</span>)       │ ?                           │     <span style=\"color: #00af00; text-decoration-color: #00af00\">0</span> (unbuilt) │\n",
              "├──────────────────────────────────────┼─────────────────────────────┼─────────────────┤\n",
              "│ dropout_1 (<span style=\"color: #0087ff; text-decoration-color: #0087ff\">Dropout</span>)                  │ ?                           │     <span style=\"color: #00af00; text-decoration-color: #00af00\">0</span> (unbuilt) │\n",
              "├──────────────────────────────────────┼─────────────────────────────┼─────────────────┤\n",
              "│ lstm_1 (<span style=\"color: #0087ff; text-decoration-color: #0087ff\">LSTM</span>)                        │ ?                           │     <span style=\"color: #00af00; text-decoration-color: #00af00\">0</span> (unbuilt) │\n",
              "├──────────────────────────────────────┼─────────────────────────────┼─────────────────┤\n",
              "│ dropout_2 (<span style=\"color: #0087ff; text-decoration-color: #0087ff\">Dropout</span>)                  │ ?                           │     <span style=\"color: #00af00; text-decoration-color: #00af00\">0</span> (unbuilt) │\n",
              "├──────────────────────────────────────┼─────────────────────────────┼─────────────────┤\n",
              "│ lstm_2 (<span style=\"color: #0087ff; text-decoration-color: #0087ff\">LSTM</span>)                        │ ?                           │     <span style=\"color: #00af00; text-decoration-color: #00af00\">0</span> (unbuilt) │\n",
              "├──────────────────────────────────────┼─────────────────────────────┼─────────────────┤\n",
              "│ dropout_3 (<span style=\"color: #0087ff; text-decoration-color: #0087ff\">Dropout</span>)                  │ ?                           │     <span style=\"color: #00af00; text-decoration-color: #00af00\">0</span> (unbuilt) │\n",
              "├──────────────────────────────────────┼─────────────────────────────┼─────────────────┤\n",
              "│ dense_1 (<span style=\"color: #0087ff; text-decoration-color: #0087ff\">Dense</span>)                      │ ?                           │     <span style=\"color: #00af00; text-decoration-color: #00af00\">0</span> (unbuilt) │\n",
              "└──────────────────────────────────────┴─────────────────────────────┴─────────────────┘\n",
              "</pre>\n"
            ]
          },
          "metadata": {}
        },
        {
          "output_type": "display_data",
          "data": {
            "text/plain": [
              "\u001b[1m Total params: \u001b[0m\u001b[38;5;34m0\u001b[0m (0.00 B)\n"
            ],
            "text/html": [
              "<pre style=\"white-space:pre;overflow-x:auto;line-height:normal;font-family:Menlo,'DejaVu Sans Mono',consolas,'Courier New',monospace\"><span style=\"font-weight: bold\"> Total params: </span><span style=\"color: #00af00; text-decoration-color: #00af00\">0</span> (0.00 B)\n",
              "</pre>\n"
            ]
          },
          "metadata": {}
        },
        {
          "output_type": "display_data",
          "data": {
            "text/plain": [
              "\u001b[1m Trainable params: \u001b[0m\u001b[38;5;34m0\u001b[0m (0.00 B)\n"
            ],
            "text/html": [
              "<pre style=\"white-space:pre;overflow-x:auto;line-height:normal;font-family:Menlo,'DejaVu Sans Mono',consolas,'Courier New',monospace\"><span style=\"font-weight: bold\"> Trainable params: </span><span style=\"color: #00af00; text-decoration-color: #00af00\">0</span> (0.00 B)\n",
              "</pre>\n"
            ]
          },
          "metadata": {}
        },
        {
          "output_type": "display_data",
          "data": {
            "text/plain": [
              "\u001b[1m Non-trainable params: \u001b[0m\u001b[38;5;34m0\u001b[0m (0.00 B)\n"
            ],
            "text/html": [
              "<pre style=\"white-space:pre;overflow-x:auto;line-height:normal;font-family:Menlo,'DejaVu Sans Mono',consolas,'Courier New',monospace\"><span style=\"font-weight: bold\"> Non-trainable params: </span><span style=\"color: #00af00; text-decoration-color: #00af00\">0</span> (0.00 B)\n",
              "</pre>\n"
            ]
          },
          "metadata": {}
        }
      ]
    },
    {
      "cell_type": "code",
      "source": [
        "model_bueno.compile(loss='categorical_crossentropy', optimizer='adam', metrics=['accuracy'])"
      ],
      "metadata": {
        "id": "SKDdDmxxFYgC"
      },
      "execution_count": null,
      "outputs": []
    },
    {
      "cell_type": "markdown",
      "source": [
        "# Entrenar modelo"
      ],
      "metadata": {
        "id": "Hmirx_p_CpKE"
      }
    },
    {
      "cell_type": "markdown",
      "source": [
        "En el entrenamiento del modelo para que no sufra sobreajuste se puso un early stop que se detiene cuando la perdida del conjunto de validación no cambia y restaura los mejores psos del modelo.\n",
        "De igual manera se redujo el batch_size para que pueda mejorar el aprendizaje del modelo."
      ],
      "metadata": {
        "id": "sl8uZcQvgA58"
      }
    },
    {
      "cell_type": "code",
      "source": [
        "early_stop = EarlyStopping(\n",
        "    monitor='val_loss',  # La métrica a monitorear\n",
        "    patience=3,          # Número de épocas sin mejora para detener el entrenamiento\n",
        "    restore_best_weights=True  # Restaurar los pesos del modelo de la época con mejor desempeño\n",
        ")\n",
        "\n",
        "# Entrenar el modelo\n",
        "history = model_bueno.fit(\n",
        "    padded_sequences,       # Tus secuencias de entrada preprocesadas\n",
        "    labels,                 # Etiquetas del conjunto de entrenamiento\n",
        "    epochs=10,              # Número máximo de épocas\n",
        "    batch_size=64,          # Tamaño del lote\n",
        "    validation_split=0.2,   # Fracción del conjunto de datos para validación\n",
        "    callbacks=[early_stop]  # Incluir el callback de EarlyStopping\n",
        ")"
      ],
      "metadata": {
        "id": "zQ7OMBzkCnvD",
        "colab": {
          "base_uri": "https://localhost:8080/"
        },
        "outputId": "89a0f651-dea8-4086-ebc3-5ab756b68e54"
      },
      "execution_count": null,
      "outputs": [
        {
          "output_type": "stream",
          "name": "stdout",
          "text": [
            "Epoch 1/10\n",
            "\u001b[1m2038/2038\u001b[0m \u001b[32m━━━━━━━━━━━━━━━━━━━━\u001b[0m\u001b[37m\u001b[0m \u001b[1m35s\u001b[0m 16ms/step - accuracy: 0.6915 - loss: 0.7274 - val_accuracy: 0.8621 - val_loss: 0.4288\n",
            "Epoch 2/10\n",
            "\u001b[1m2038/2038\u001b[0m \u001b[32m━━━━━━━━━━━━━━━━━━━━\u001b[0m\u001b[37m\u001b[0m \u001b[1m40s\u001b[0m 15ms/step - accuracy: 0.8728 - loss: 0.4018 - val_accuracy: 0.8593 - val_loss: 0.4328\n",
            "Epoch 3/10\n",
            "\u001b[1m2038/2038\u001b[0m \u001b[32m━━━━━━━━━━━━━━━━━━━━\u001b[0m\u001b[37m\u001b[0m \u001b[1m41s\u001b[0m 15ms/step - accuracy: 0.8982 - loss: 0.3270 - val_accuracy: 0.8524 - val_loss: 0.4563\n",
            "Epoch 4/10\n",
            "\u001b[1m2038/2038\u001b[0m \u001b[32m━━━━━━━━━━━━━━━━━━━━\u001b[0m\u001b[37m\u001b[0m \u001b[1m42s\u001b[0m 15ms/step - accuracy: 0.9184 - loss: 0.2630 - val_accuracy: 0.8413 - val_loss: 0.5276\n"
          ]
        }
      ]
    },
    {
      "cell_type": "markdown",
      "source": [
        "# Resultados"
      ],
      "metadata": {
        "id": "KrJL792qEIH4"
      }
    },
    {
      "cell_type": "code",
      "source": [
        "test_loss, test_accuracy = model_bueno.evaluate(X_test, y_test)\n",
        "print(f\"Test Accuracy: {test_accuracy * 100:.2f}%\")"
      ],
      "metadata": {
        "id": "lQR19q19GDDM",
        "colab": {
          "base_uri": "https://localhost:8080/"
        },
        "outputId": "b1dfdff9-5b30-407f-bad0-59ee59268313"
      },
      "execution_count": null,
      "outputs": [
        {
          "output_type": "stream",
          "name": "stdout",
          "text": [
            "\u001b[1m2038/2038\u001b[0m \u001b[32m━━━━━━━━━━━━━━━━━━━━\u001b[0m\u001b[37m\u001b[0m \u001b[1m7s\u001b[0m 4ms/step - accuracy: 0.8747 - loss: 0.3963\n",
            "Test Accuracy: 87.52%\n"
          ]
        }
      ]
    },
    {
      "cell_type": "code",
      "source": [
        "plt.plot(history.history['accuracy'], label='Training Accuracy')\n",
        "plt.plot(history.history['val_accuracy'], label='Validation Accuracy')\n",
        "plt.xlabel('Epoch')\n",
        "plt.ylabel('Accuracy')\n",
        "plt.legend()\n",
        "plt.show()"
      ],
      "metadata": {
        "id": "Lf4Hrk5rEJqC",
        "colab": {
          "base_uri": "https://localhost:8080/",
          "height": 449
        },
        "outputId": "579b5edf-196c-46a0-9db7-f9dd9fb8411f"
      },
      "execution_count": null,
      "outputs": [
        {
          "output_type": "display_data",
          "data": {
            "text/plain": [
              "<Figure size 640x480 with 1 Axes>"
            ],
            "image/png": "[encoded data removed]"
          },
          "metadata": {}
        }
      ]
    },
    {
      "cell_type": "code",
      "source": [
        "# Generar predicciones en el conjunto de prueba\n",
        "predicciones = model_bueno.predict(X_test)\n",
        "predicted_classes = predicciones.argmax(axis=1)\n",
        "true_classes = y_test.argmax(axis=1)\n",
        "\n",
        "# Calcular el reporte de clasificación\n",
        "print(\"Reporte de Clasificación:\")\n",
        "print(classification_report(true_classes, predicted_classes, target_names=[\"Negativo\", \"Neutral\", \"Positivo\"]))\n",
        "\n",
        "# Calcular la matriz de confusión\n",
        "print(\"Matriz de Confusión:\")\n",
        "print(confusion_matrix(true_classes, predicted_classes))"
      ],
      "metadata": {
        "id": "ZwN8d6QETLSv",
        "colab": {
          "base_uri": "https://localhost:8080/"
        },
        "outputId": "b4a8ac8f-6d0f-4997-a1d9-52f56dcf0b17"
      },
      "execution_count": null,
      "outputs": [
        {
          "output_type": "stream",
          "name": "stdout",
          "text": [
            "\u001b[1m2038/2038\u001b[0m \u001b[32m━━━━━━━━━━━━━━━━━━━━\u001b[0m\u001b[37m\u001b[0m \u001b[1m5s\u001b[0m 2ms/step\n",
            "Reporte de Clasificación:\n",
            "              precision    recall  f1-score   support\n",
            "\n",
            "    Negativo       0.87      0.81      0.84     14248\n",
            "     Neutral       0.81      0.97      0.88     22161\n",
            "    Positivo       0.95      0.83      0.89     28779\n",
            "\n",
            "    accuracy                           0.88     65188\n",
            "   macro avg       0.88      0.87      0.87     65188\n",
            "weighted avg       0.88      0.88      0.87     65188\n",
            "\n",
            "Matriz de Confusión:\n",
            "[[11562  1686  1000]\n",
            " [  319 21558   284]\n",
            " [ 1431  3415 23933]]\n"
          ]
        }
      ]
    },
    {
      "cell_type": "markdown",
      "source": [
        "A diferencia del anterior modelos se puede observar como el Accuracy con el conjunto de prueba llega a ser alto, sin embargo en la grafica de la presición de los datos de entrenamiento y validación se puede observar una gran discrepancia lo que significa que se esta sobreajustando. En cuanto a precision, recall y f1-score todos los valores que indican un buen desempeño pero se observa que a la clase Negativo presenta un desempeño inferior en comparación con las otras categorías, lo cual sugiere que el modelo tiene dificultades para diferenciar correctamente los tweets negativos. En la matriz de confusión podemos observar que ahora se confunde menos que el anterior modelo pero la clase que más se llega a equivocar es la \"Neutral\" con muchas más clasificaciones equivocadas."
      ],
      "metadata": {
        "id": "SWPjqPd0sEFV"
      }
    },
    {
      "cell_type": "markdown",
      "source": [
        "Para mejorar el modelo, se podría aumentar la cantidad de datos de entrenamiento para la clase \"Negativo\" y \"Neutral\" aplicando técnicas de data augmentation u obteniendo más conversaciones, esto para que las clases esten más balanceadas y pueda tener un mejor desempeño. De igual manera se puede ajustar el modelo para reducir el sobreajuste, ya sea cambiando los hiperparamentros de  los dropout en el modelo, ajustando en el tamaño del batch size o reducir la complejidad del modelo."
      ],
      "metadata": {
        "id": "BDA1p7CnZbCz"
      }
    },
    {
      "cell_type": "code",
      "source": [
        "# Guardar el modelo completo (arquitectura + pesos)\n",
        "model_bueno.save('/content/full_model.keras')\n",
        "\n",
        "# Guardar el tokenizador\n",
        "with open('/content/tokenizer.pkl', 'wb') as f:\n",
        "    pickle.dump(tokenizer, f)"
      ],
      "metadata": {
        "id": "LUE_CirgtOyU"
      },
      "execution_count": null,
      "outputs": []
    },
    {
      "cell_type": "markdown",
      "source": [
        "# Pruebas\n",
        "Una vez guardado el modelo y el tokenizador se va a probar el modelo con nuevos datos"
      ],
      "metadata": {
        "id": "ElF5RPg3mPPO"
      }
    },
    {
      "cell_type": "code",
      "source": [
        "# Cargar el modelo bueno\n",
        "model = tf.keras.models.load_model('/content/full_model.keras')\n",
        "\n",
        "def preprocess_text(text):\n",
        "    # Eliminar caracteres no deseados y limpiar el texto\n",
        "    text = re.sub(r'\\n|\\r|\\ufeff|“|”', '', text)\n",
        "    return text\n",
        "\n",
        "def classify_text(text):\n",
        "\n",
        "    clean_text = preprocess_text(text)\n",
        "\n",
        "    # Cargar el tokenizador usado\n",
        "    with open('/content/tokenizer.pkl', 'rb') as handle:\n",
        "        tokenizer = pickle.load(handle)\n",
        "\n",
        "    # Convertir el texto a secuencia numérica\n",
        "    sequences = tokenizer.texts_to_sequences([clean_text])\n",
        "    padded_sequences = pad_sequences(sequences)\n",
        "\n",
        "    # Realizar la predicción\n",
        "    prediction = model.predict(padded_sequences)\n",
        "    predicted_class = np.argmax(prediction, axis=1)[0]\n",
        "\n",
        "    # Mapeo de clases\n",
        "    class_labels = {0: \"Negativo\", 1: \"Neutral\", 2: \"Positivo\"}  # Ajusta según las clases de tu modelo\n",
        "    return class_labels[predicted_class]\n",
        "\n",
        "# Primer ejemplo positivo\n",
        "texto = \"With all this nonsense and continue with all the drama\"\n",
        "resultado = classify_text(texto)\n",
        "print(\"El sentimiento del primer tweet es:\", resultado)\n",
        "\n",
        "# Segundo ejemplo Neutral\n",
        "texto = \"one vote can make all the difference in election 2019\"\n",
        "resultado = classify_text(texto)\n",
        "print(\"El sentimiento del segundo tweet es:\", resultado)\n",
        "\n",
        "# Tercer ejemplo Negativo\n",
        "texto = \"The government's promise of reducing bureaucracy and streamlining operations has been slow state should and not business and should exit psus and temples.\"\n",
        "resultado = classify_text(texto)\n",
        "print(\"El sentimiento del segundo tweet es:\", resultado)\n",
        "\n"
      ],
      "metadata": {
        "id": "djb6DzXwje2s",
        "colab": {
          "base_uri": "https://localhost:8080/"
        },
        "outputId": "45728788-acb5-4d84-c8ae-500f4e51450a"
      },
      "execution_count": 8,
      "outputs": [
        {
          "output_type": "stream",
          "name": "stdout",
          "text": [
            "\u001b[1m1/1\u001b[0m \u001b[32m━━━━━━━━━━━━━━━━━━━━\u001b[0m\u001b[37m\u001b[0m \u001b[1m0s\u001b[0m 179ms/step\n",
            "El sentimiento del primer tweet es: Positivo\n",
            "\u001b[1m1/1\u001b[0m \u001b[32m━━━━━━━━━━━━━━━━━━━━\u001b[0m\u001b[37m\u001b[0m \u001b[1m0s\u001b[0m 193ms/step\n",
            "El sentimiento del segundo tweet es: Neutral\n",
            "\u001b[1m1/1\u001b[0m \u001b[32m━━━━━━━━━━━━━━━━━━━━\u001b[0m\u001b[37m\u001b[0m \u001b[1m0s\u001b[0m 27ms/step\n",
            "El sentimiento del segundo tweet es: Negativo\n"
          ]
        }
      ]
    }
  ]
}
